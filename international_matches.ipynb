{
  "cells": [
    {
      "cell_type": "markdown",
      "source": [
        "<center><h1> Analiza internacionalnih utakmica u posljednih 30ak godina </h1></center>\n",
        "<center><h3> </h3></center> \n",
        "<center><h3> </h3></center> \n",
        "<center><h3> Tonino Kaštelan, Matej Kožica, Nikola Tafra</h3></center>\n",
        "<center><h3> </h3></center> \n",
        "<center><h4> Akademska godina 2022./2023.</h4></center>"
      ],
      "metadata": {
        "id": "abfb98a9-ffa0-4dfb-af94-d8c7707bb991"
      }
    },
    {
      "cell_type": "markdown",
      "source": [
        "## Opis projekta i podaci\n",
        "\n",
        "Za potrebe ovog projekta iskorišteni su podaci dostupni na sljedećem linku: https://www.kaggle.com/datasets/brenda89/fifa-world-cup-2022.\n",
        "U sklopu navedenog skupa podataka moguće je pronaći sve informacije o internacionalnim utakmicama odigranih od 08.08.1993. godine. Podaci se sastoje od sljedećih stupaca:\n",
        "\n",
        "| Stupac   | Opis  |\n",
        "|----------|:-------------|\n",
        "| `date`           | Datum kada je utakmica odigrana |\n",
        "| `home_team`            | Domaća momčad. |\n",
        "| `away_team`      | Gostujuća momčad. |\n",
        "| `home_team_continent`      | Kontinent s kojeg dolazi domaća momčad. |\n",
        "| `away_team_continent`            | Kontinent s kojeg dolazi gostujuća momčad |\n",
        "| `home_team_fifa_rank`     | FIFA ranking domaće momčadi. |\n",
        "| `away_team_fifa_rank`            | FIFA ranking gostujuće momčadi. |\n",
        "| `home_team_total_fifa_points`       | Zbroj FIFA bodova svih igrača domaće momčadi.  |\n",
        "| `away_team_total_fifa_points` | Zbroj FIFA bodova svih igrača gostujuće momčadi. |\n",
        "| `home_team_score` | Broj golova domaće momčadi. |\n",
        "| `away_team_score` | Broj golova gostujuće momčadi |\n",
        "| `tournament` | Natjecanje u sklopu kojeg je utakmica odigrana. |\n",
        "| `city` | Grad u kojem je utakmica odigrana. |\n",
        "| `country` | Država u kojoj je utakmica odigrana. |\n",
        "| `neutral_location` | NEMAM POJMA ŠTA JE OVO. |\n",
        "| `shoot_out` | Je li utakmica završila izvođenjem jedanaesteraca? |\n",
        "| `home_team_result` | Ishod utakmice za domaću momčad. |\n",
        "| `home_team_goalkeeper_score` | FIFA ranking golmana domaće momčadi. |\n",
        "| `away_team_goalkeeper_score` | FIFA ranking golmana gostujuće momčadi. |\n",
        "| `home_team_mean_defense_score` | Prosjek FIFA bodova defenzivnih igrača domaće momčadi. |\n",
        "| `home_team_mean_offense_score` | Prosjek FIFA bodova ofenzivnih igrača domaće momčadi. |\n",
        "| `home_team_mean_midfield_score` | Prosjek FIFA bodova veznih igrača domaće momčadi. |\n",
        "| `away_team_mean_defense_score` | Prosjek FIFA bodova defenzivnih igrača gostujuće momčadi. |\n",
        "| `away_team_mean_offense_score` | Prosjek FIFA bodova ofenzivnih igrača gostujuće momčadi. |\n",
        "| `away_team_mean_midfield_score` | Prosjek FIFA bodova veznih igrača gostujuće momčadi. |"
      ],
      "metadata": {
        "id": "dd9da72a-8708-4166-9930-0252df830abf"
      }
    },
    {
      "cell_type": "code",
      "execution_count": 1,
      "source": [
        "import pandas as pd\n",
        "import seaborn as sns\n",
        "import numpy as np\n",
        "\n",
        "matches_df = pd.read_csv('./international_matches.csv')"
      ],
      "outputs": [],
      "metadata": {}
    },
    {
      "cell_type": "markdown",
      "source": [
        "**Gradovi u kojima je odigrano najviše internacionalnih utakmica**"
      ],
      "metadata": {
        "id": "f23d521e-2658-4c3b-9f99-e2d44994e73d"
      }
    },
    {
      "cell_type": "markdown",
      "source": [
        "**Gradovi u kojima je odigrano najmanje internacionalnih utakmica**"
      ],
      "metadata": {
        "id": "55435ca6-7a51-4e8c-af99-8ae2c3e84572"
      }
    },
    {
      "cell_type": "markdown",
      "source": [
        "**Države u kojima je odigrano najviše internacionalnih utakmica**"
      ],
      "metadata": {
        "id": "9714d806-39b7-48ec-9cc2-082e75499bbc"
      }
    },
    {
      "cell_type": "markdown",
      "source": [
        "**Države u kojima je odigrano najviše internacionalnih utakmica**"
      ],
      "metadata": {
        "id": "6eaf683f-8562-4707-b6f1-850b3c1b50dc"
      }
    },
    {
      "cell_type": "markdown",
      "source": [
        "**Države koje u prosjeku imaju najbolji vezni red po FIFA ocjenama**"
      ],
      "metadata": {
        "id": "HVi_MVwWcX0o"
      }
    },
    {
      "cell_type": "code",
      "execution_count": 51,
      "source": [
        "home_team_midfield_mean_score = pd.DataFrame(matches_df[['home_team', 'home_team_mean_midfield_score']].dropna().values, columns=['country', 'mean_midfield_score'])\n",
        "away_team_midfield_mean_score = pd.DataFrame(matches_df[['away_team', 'away_team_mean_midfield_score']].dropna().values, columns=['country', 'mean_midfield_score'])\n",
        "countries_midfield_mean_score = pd.concat([home_team_midfield_mean_score, away_team_midfield_mean_score])\n",
        "countries_midfield_mean_score = countries_midfield_mean_score.groupby(countries_midfield_mean_score['country'], as_index=False).aggregate('mean')\n",
        "sns.set(rc={'figure.figsize':(10,50)})\n",
        "sns.barplot(data=countries_midfield_mean_score, y=countries_midfield_mean_score['country'], x=countries_midfield_mean_score['mean_midfield_score'], orient='h')"
      ],
      "outputs": [],
      "metadata": {}
    },
    {
      "cell_type": "markdown",
      "source": [
        "**Države koje u prosjeku imaju najbolju obranu po FIFA ocjenama**"
      ],
      "metadata": {
        "id": "Tvvcd8olcyRo"
      }
    },
    {
      "cell_type": "code",
      "execution_count": 50,
      "source": [
        "home_team_defense_mean_score = pd.DataFrame(matches_df[['home_team', 'home_team_mean_defense_score']].dropna().values, columns=['country', 'mean_defense_score'])\n",
        "away_team_defense_mean_score = pd.DataFrame(matches_df[['away_team', 'away_team_mean_defense_score']].dropna().values, columns=['country', 'mean_defense_score'])\n",
        "countries_defense_mean_score = pd.concat([home_team_defense_mean_score, away_team_defense_mean_score])\n",
        "countries_defense_mean_score = countries_defense_mean_score.groupby(countries_defense_mean_score['country'], as_index=False).aggregate('mean')\n",
        "sns.set(rc={'figure.figsize':(10,50)})\n",
        "sns.barplot(data=countries_defense_mean_score, y=countries_defense_mean_score['country'], x=countries_defense_mean_score['mean_defense_score'], orient='h')"
      ],
      "outputs": [],
      "metadata": {}
    },
    {
      "cell_type": "markdown",
      "source": [
        "**Države koje u prosjeku imaju najbolji napad po FIFA ocjenama**"
      ],
      "metadata": {
        "id": "jEPurXqydAMr"
      }
    },
    {
      "cell_type": "code",
      "execution_count": null,
      "source": [
        "home_team_offense_mean_score = pd.DataFrame(matches_df[['home_team', 'home_team_mean_offense_score']].dropna().values, columns=['country', 'mean_offense_score'])\n",
        "away_team_offense_mean_score = pd.DataFrame(matches_df[['away_team', 'away_team_mean_offense_score']].dropna().values, columns=['country', 'mean_offense_score'])\n",
        "countries_offense_mean_score = pd.concat([home_team_offense_mean_score, away_team_offense_mean_score])\n",
        "countries_offense_mean_score = countries_offense_mean_score.groupby(countries_offense_mean_score['country'], as_index=False).aggregate('mean')\n",
        "sns.set(rc={'figure.figsize':(10,50)})\n",
        "sns.barplot(data=countries_offense_mean_score, y=countries_offense_mean_score['country'], x=countries_offense_mean_score['mean_offense_score'], orient='h')"
      ],
      "outputs": [],
      "metadata": {}
    },
    {
      "cell_type": "markdown",
      "source": [
        "**Utakmice u kojima je zabijeno najviše golova**"
      ],
      "metadata": {
        "id": "vPXzV3LJdzlG"
      }
    },
    {
      "cell_type": "markdown",
      "source": [
        "**Države s najviše zabijenih golova**"
      ],
      "metadata": {
        "id": "hu0KXxhKd5i_"
      }
    },
    {
      "cell_type": "code",
      "execution_count": 49,
      "source": [
        "home_team_score = pd.DataFrame(matches_df[['home_team', 'home_team_score']].dropna().values, columns=['country', 'score'])\n",
        "away_team_score = pd.DataFrame(matches_df[['away_team', 'away_team_score']].dropna().values, columns=['country', 'score'])\n",
        "countries_score = pd.concat([home_team_score, away_team_score])\n",
        "countries_score = countries_score.groupby(countries_score['country'], as_index=False).aggregate('sum').sort_values(by='score', ascending=False)\n",
        "countries_score = countries_score.head(20)\n",
        "sns.set(rc={'figure.figsize':(30,5)})\n",
        "sns.barplot(data=countries_score, x=countries_score['country'], y=countries_score['score'])"
      ],
      "outputs": [],
      "metadata": {}
    },
    {
      "cell_type": "markdown",
      "source": [
        "**Države s najmanje zabijenih golova**"
      ],
      "metadata": {
        "id": "s86hL9P1eChH"
      }
    },
    {
      "cell_type": "code",
      "execution_count": 48,
      "source": [
        "home_team_score = pd.DataFrame(matches_df[['home_team', 'home_team_score']].dropna().values, columns=['country', 'score'])\n",
        "away_team_score = pd.DataFrame(matches_df[['away_team', 'away_team_score']].dropna().values, columns=['country', 'score'])\n",
        "countries_score = pd.concat([home_team_score, away_team_score])\n",
        "countries_score = countries_score.groupby(countries_score['country'], as_index=False).aggregate('sum').sort_values(by='score')\n",
        "countries_score = countries_score.head(20)\n",
        "sns.set(rc={'figure.figsize':(5,15)})\n",
        "sns.barplot(data=countries_score, y=countries_score['country'], x=countries_score['score'], orient='h')"
      ],
      "outputs": [],
      "metadata": {}
    },
    {
      "cell_type": "markdown",
      "source": [
        "**Države koje su u jednoj utakmici zabile najviše golova**"
      ],
      "metadata": {
        "id": "MF4-INh2eEYu"
      }
    },
    {
      "cell_type": "markdown",
      "source": [
        "**Države koje su u jednoj utakmici zabile najviše golova, a izgubile**"
      ],
      "metadata": {
        "id": "vjGkN_NneKMU"
      }
    },
    {
      "cell_type": "markdown",
      "source": [
        "**Države koje su pobjedile unatoč velikoj razlici FIFA score-a**"
      ],
      "metadata": {}
    },
    {
      "cell_type": "code",
      "execution_count": 18,
      "source": [
        "upset_matches = pd.DataFrame(matches_df[['home_team', 'away_team', 'home_team_total_fifa_points', 'away_team_total_fifa_points', 'home_team_result', 'tournament']])\n",
        "upset_matches['fifa_score_difference'] = upset_matches.apply(lambda x: abs(x['home_team_total_fifa_points'] - x['away_team_total_fifa_points']), axis=1)\n",
        "upset_matches['match_name'] = upset_matches.apply(lambda x: x['home_team'][:3].upper() + '-' + x[\"away_team\"][:3].upper(), axis=1)\n",
        "\n",
        "upset_matches['weaker_team_fifa_points'] = upset_matches.apply(lambda x: x['home_team_total_fifa_points'] if(x['home_team_total_fifa_points'] - x['away_team_total_fifa_points'] < 0) else x['away_team_total_fifa_points'] , axis=1)\n",
        "upset_matches['stronger_team_fifa_points'] = upset_matches.apply(lambda x: x['home_team_total_fifa_points'] if(x['home_team_total_fifa_points'] - x['away_team_total_fifa_points'] > 0) else x['away_team_total_fifa_points'] , axis=1)\n",
        "\n",
        "upset_matches = upset_matches[upset_matches['fifa_score_difference'] > 10].sort_values(by='fifa_score_difference', ascending=False)\n",
        "upset_matches = upset_matches[((upset_matches['home_team_total_fifa_points'] - upset_matches['away_team_total_fifa_points'] < 0) & (upset_matches['home_team_result'] == 'Win')) | ((upset_matches['home_team_total_fifa_points'] - upset_matches['away_team_total_fifa_points'] > 0) & (upset_matches['home_team_result'] == 'Lose'))]\n",
        "upset_matches_graph = upset_matches.head(20)\n",
        "\n",
        "\n",
        "sns.set_color_codes(\"pastel\")\n",
        "graph = sns.barplot(x='stronger_team_fifa_points', y=\"match_name\", data=upset_matches_graph, color=\"b\")\n",
        "\n",
        "sns.set_color_codes(\"muted\")\n",
        "graph = sns.barplot(x='weaker_team_fifa_points', y=\"match_name\", data=upset_matches_graph, color=\"b\")\n",
        "\n",
        "graph.set(xlabel=\"Fifa points\", ylabel=\"Match name\")\n"
      ],
      "outputs": [
        {
          "output_type": "execute_result",
          "data": {
            "text/plain": [
              "' sns.set_color_codes(\"pastel\")\\ngraph = sns.barplot(x=\\'stronger_team_fifa_points\\', y=\"match_name\", data=upset_matches_graph, color=\"b\")\\n\\nsns.set_color_codes(\"muted\")\\ngraph = sns.barplot(x=\\'weaker_team_fifa_points\\', y=\"match_name\", data=upset_matches_graph, color=\"b\")\\n\\ngraph.set(xlabel=\"Fifa points\", ylabel=\"Match name\") '"
            ]
          },
          "metadata": {},
          "execution_count": 18
        }
      ],
      "metadata": {}
    },
    {
      "cell_type": "markdown",
      "source": [
        "**Natjecanja sa najviše preokreta**"
      ],
      "metadata": {}
    },
    {
      "cell_type": "code",
      "execution_count": 17,
      "source": [
        "aggregated = upset_matches.groupby('tournament').aggregate('size').sort_values(ascending=False)\n",
        "aggregated = pd.DataFrame({'tournament': aggregated.index, 'number_of_upsets': aggregated.values})\n",
        "aggregated = aggregated.head(10)\n",
        "sns.set(rc={'figure.figsize':(5,5)})\n",
        "graph = sns.barplot(data=aggregated, y=aggregated['tournament'], x=aggregated['number_of_upsets'], orient='h')\n",
        "graph.set(xlabel=\"Number of upsets\", ylabel=\"Tournament name\")\n"
      ],
      "outputs": [
        {
          "output_type": "execute_result",
          "data": {
            "text/plain": [
              "' graph = sns.barplot(data=aggregated, y=aggregated[\\'tournament\\'], x=aggregated[\\'number_of_upsets\\'], orient=\\'h\\')\\ngraph.set(xlabel=\"Number of upsets\", ylabel=\"Tournament name\") '"
            ]
          },
          "metadata": {},
          "execution_count": 17
        }
      ],
      "metadata": {}
    }
  ],
  "metadata": {
    "kernelspec": {
      "name": "python3",
      "display_name": "Python 3.9.6 64-bit"
    },
    "language_info": {
      "codemirror_mode": {
        "name": "ipython",
        "version": 3
      },
      "file_extension": ".py",
      "mimetype": "text/x-python",
      "name": "python",
      "nbconvert_exporter": "python",
      "pygments_lexer": "ipython3",
      "version": "3.9.6"
    },
    "colab": {
      "provenance": [],
      "toc_visible": true
    },
    "interpreter": {
      "hash": "aee8b7b246df8f9039afb4144a1f6fd8d2ca17a180786b69acc140d282b71a49"
    }
  },
  "nbformat": 4,
  "nbformat_minor": 5
}