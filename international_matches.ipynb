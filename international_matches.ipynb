{
  "cells": [
    {
      "cell_type": "markdown",
      "id": "abfb98a9-ffa0-4dfb-af94-d8c7707bb991",
      "metadata": {
        "id": "abfb98a9-ffa0-4dfb-af94-d8c7707bb991"
      },
      "source": [
        "<center><h1> Analiza internacionalnih utakmica u posljednih 30ak godina </h1></center>\n",
        "<center><h3> </h3></center> \n",
        "<center><h3> </h3></center> \n",
        "<center><h3> Tonino Kaštelan, Matej Kožica, Nikola Tafra</h3></center>\n",
        "<center><h3> </h3></center> \n",
        "<center><h4> Akademska godina 2022./2023.</h4></center>"
      ]
    },
    {
      "cell_type": "markdown",
      "id": "dd9da72a-8708-4166-9930-0252df830abf",
      "metadata": {
        "id": "dd9da72a-8708-4166-9930-0252df830abf"
      },
      "source": [
        "## Opis projekta i podaci\n",
        "\n",
        "Za potrebe ovog projekta iskorišteni su podaci dostupni na sljedećem linku: https://www.kaggle.com/datasets/brenda89/fifa-world-cup-2022.\n",
        "U sklopu navedenog skupa podataka moguće je pronaći sve informacije o internacionalnim utakmicama odigranih od 08.08.1993. godine. Podaci se sastoje od sljedećih stupaca:\n",
        "\n",
        "| Stupac   | Opis  |\n",
        "|----------|:-------------|\n",
        "| `date`           | Datum kada je utakmica odigrana |\n",
        "| `home_team`            | Domaća momčad. |\n",
        "| `away_team`      | Gostujuća momčad. |\n",
        "| `home_team_continent`      | Kontinent s kojeg dolazi domaća momčad. |\n",
        "| `away_team_continent`            | Kontinent s kojeg dolazi gostujuća momčad |\n",
        "| `home_team_fifa_rank`     | FIFA ranking domaće momčadi. |\n",
        "| `away_team_fifa_rank`            | FIFA ranking gostujuće momčadi. |\n",
        "| `home_team_total_fifa_points`       | Zbroj FIFA bodova svih igrača domaće momčadi.  |\n",
        "| `away_team_total_fifa_points` | Zbroj FIFA bodova svih igrača gostujuće momčadi. |\n",
        "| `home_team_score` | Broj golova domaće momčadi. |\n",
        "| `away_team_score` | Broj golova gostujuće momčadi |\n",
        "| `tournament` | Natjecanje u sklopu kojeg je utakmica odigrana. |\n",
        "| `city` | Grad u kojem je utakmica odigrana. |\n",
        "| `country` | Država u kojoj je utakmica odigrana. |\n",
        "| `neutral_location` | NEMAM POJMA ŠTA JE OVO. |\n",
        "| `shoot_out` | Je li utakmica završila izvođenjem jedanaesteraca? |\n",
        "| `home_team_result` | Ishod utakmice za domaću momčad. |\n",
        "| `home_team_goalkeeper_score` | FIFA ranking golmana domaće momčadi. |\n",
        "| `away_team_goalkeeper_score` | FIFA ranking golmana gostujuće momčadi. |\n",
        "| `home_team_mean_defense_score` | Prosjek FIFA bodova defenzivnih igrača domaće momčadi. |\n",
        "| `home_team_mean_offense_score` | Prosjek FIFA bodova ofenzivnih igrača domaće momčadi. |\n",
        "| `home_team_mean_midfield_score` | Prosjek FIFA bodova veznih igrača domaće momčadi. |\n",
        "| `away_team_mean_defense_score` | Prosjek FIFA bodova defenzivnih igrača gostujuće momčadi. |\n",
        "| `away_team_mean_offense_score` | Prosjek FIFA bodova ofenzivnih igrača gostujuće momčadi. |\n",
        "| `away_team_mean_midfield_score` | Prosjek FIFA bodova veznih igrača gostujuće momčadi. |"
      ]
    },
    {
      "cell_type": "markdown",
      "id": "f23d521e-2658-4c3b-9f99-e2d44994e73d",
      "metadata": {
        "id": "f23d521e-2658-4c3b-9f99-e2d44994e73d"
      },
      "source": [
        "**Gradovi u kojima je odigrano najviše internacionalnih utakmica**"
      ]
    },
    {
      "cell_type": "markdown",
      "id": "55435ca6-7a51-4e8c-af99-8ae2c3e84572",
      "metadata": {
        "id": "55435ca6-7a51-4e8c-af99-8ae2c3e84572"
      },
      "source": [
        "**Gradovi u kojima je odigrano najmanje internacionalnih utakmica**"
      ]
    },
    {
      "cell_type": "markdown",
      "id": "9714d806-39b7-48ec-9cc2-082e75499bbc",
      "metadata": {
        "id": "9714d806-39b7-48ec-9cc2-082e75499bbc"
      },
      "source": [
        "**Države u kojima je odigrano najviše internacionalnih utakmica**"
      ]
    },
    {
      "cell_type": "markdown",
      "id": "6eaf683f-8562-4707-b6f1-850b3c1b50dc",
      "metadata": {
        "id": "6eaf683f-8562-4707-b6f1-850b3c1b50dc"
      },
      "source": [
        "**Države u kojima je odigrano najviše internacionalnih utakmica**"
      ]
    },
    {
      "cell_type": "markdown",
      "source": [
        "**Države koje u prosjeku imaju najbolji vezni red po FIFA ocjenama**"
      ],
      "metadata": {
        "id": "HVi_MVwWcX0o"
      },
      "id": "HVi_MVwWcX0o"
    },
    {
      "cell_type": "markdown",
      "source": [
        "**Države koje u prosjeku imaju najbolju obranu po FIFA ocjenama**"
      ],
      "metadata": {
        "id": "Tvvcd8olcyRo"
      },
      "id": "Tvvcd8olcyRo"
    },
    {
      "cell_type": "markdown",
      "source": [
        "**Države koje u prosjeku imaju najbolji napad po FIFA ocjenama**"
      ],
      "metadata": {
        "id": "jEPurXqydAMr"
      },
      "id": "jEPurXqydAMr"
    },
    {
      "cell_type": "markdown",
      "source": [
        "**Utakmice u kojima je zabijeno najviše golova**"
      ],
      "metadata": {
        "id": "vPXzV3LJdzlG"
      },
      "id": "vPXzV3LJdzlG"
    },
    {
      "cell_type": "markdown",
      "source": [
        "**Države s najviše zabijenih golova**"
      ],
      "metadata": {
        "id": "hu0KXxhKd5i_"
      },
      "id": "hu0KXxhKd5i_"
    },
    {
      "cell_type": "markdown",
      "source": [
        "**Države s najmanje zabijenih golova**"
      ],
      "metadata": {
        "id": "s86hL9P1eChH"
      },
      "id": "s86hL9P1eChH"
    },
    {
      "cell_type": "markdown",
      "source": [
        "**Države koje su u jednoj utakmici zabile najviše golova**"
      ],
      "metadata": {
        "id": "MF4-INh2eEYu"
      },
      "id": "MF4-INh2eEYu"
    },
    {
      "cell_type": "markdown",
      "source": [
        "**Države koje su u jednoj utakmici zabile najviše golova, a izgubile**"
      ],
      "metadata": {
        "id": "vjGkN_NneKMU"
      },
      "id": "vjGkN_NneKMU"
    }
  ],
  "metadata": {
    "kernelspec": {
      "display_name": "Python 3",
      "language": "python",
      "name": "python3"
    },
    "language_info": {
      "codemirror_mode": {
        "name": "ipython",
        "version": 3
      },
      "file_extension": ".py",
      "mimetype": "text/x-python",
      "name": "python",
      "nbconvert_exporter": "python",
      "pygments_lexer": "ipython3",
      "version": "3.6.8"
    },
    "colab": {
      "provenance": [],
      "toc_visible": true
    }
  },
  "nbformat": 4,
  "nbformat_minor": 5
}